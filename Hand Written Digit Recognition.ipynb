{
  "nbformat": 4,
  "nbformat_minor": 0,
  "metadata": {
    "colab": {
      "provenance": []
    },
    "kernelspec": {
      "name": "python3",
      "display_name": "Python 3"
    },
    "language_info": {
      "name": "python"
    }
  },
  "cells": [
    {
      "cell_type": "code",
      "execution_count": null,
      "metadata": {
        "colab": {
          "base_uri": "https://localhost:8080/"
        },
        "id": "vXT6ZSxXwkVT",
        "outputId": "0b4340c0-dc31-4941-94eb-8033abbc3390"
      },
      "outputs": [
        {
          "output_type": "stream",
          "name": "stdout",
          "text": [
            "Downloading data from https://storage.googleapis.com/tensorflow/tf-keras-datasets/mnist.npz\n",
            "\u001b[1m11490434/11490434\u001b[0m \u001b[32m━━━━━━━━━━━━━━━━━━━━\u001b[0m\u001b[37m\u001b[0m \u001b[1m1s\u001b[0m 0us/step\n"
          ]
        },
        {
          "output_type": "stream",
          "name": "stderr",
          "text": [
            "/usr/local/lib/python3.10/dist-packages/keras/src/layers/reshaping/flatten.py:37: UserWarning: Do not pass an `input_shape`/`input_dim` argument to a layer. When using Sequential models, prefer using an `Input(shape)` object as the first layer in the model instead.\n",
            "  super().__init__(**kwargs)\n"
          ]
        },
        {
          "output_type": "stream",
          "name": "stdout",
          "text": [
            "Epoch 1/3\n",
            "\u001b[1m1875/1875\u001b[0m \u001b[32m━━━━━━━━━━━━━━━━━━━━\u001b[0m\u001b[37m\u001b[0m \u001b[1m16s\u001b[0m 7ms/step - accuracy: 0.8706 - loss: 0.4553\n",
            "Epoch 2/3\n",
            "\u001b[1m1875/1875\u001b[0m \u001b[32m━━━━━━━━━━━━━━━━━━━━\u001b[0m\u001b[37m\u001b[0m \u001b[1m14s\u001b[0m 4ms/step - accuracy: 0.9665 - loss: 0.1123\n",
            "Epoch 3/3\n",
            "\u001b[1m1875/1875\u001b[0m \u001b[32m━━━━━━━━━━━━━━━━━━━━\u001b[0m\u001b[37m\u001b[0m \u001b[1m10s\u001b[0m 4ms/step - accuracy: 0.9786 - loss: 0.0692\n",
            "\u001b[1m313/313\u001b[0m \u001b[32m━━━━━━━━━━━━━━━━━━━━\u001b[0m\u001b[37m\u001b[0m \u001b[1m1s\u001b[0m 2ms/step - accuracy: 0.9667 - loss: 0.1103\n",
            "0.9690999984741211\n",
            "0.09959649294614792\n",
            "None\n",
            "Error: Could not load image at /content/drive/MyDrive/projectFinal/5.png\n",
            "None\n",
            "Error: Could not load image at /content/drive/MyDrive/projectFinal/5.png\n",
            "None\n",
            "Error: Could not load image at /content/drive/MyDrive/projectFinal/5.png\n",
            "None\n",
            "Error: Could not load image at /content/drive/MyDrive/projectFinal/5.png\n"
          ]
        }
      ],
      "source": [
        "import pandas as pd\n",
        "import tensorflow as tf\n",
        "import numpy as np\n",
        "import cv2 as cv\n",
        "import matplotlib.pyplot as plt\n",
        "from tensorflow.python.keras.metrics import accuracy\n",
        "\n",
        "mnist = tf.keras.datasets.mnist\n",
        "\n",
        "(x_train, y_train), (x_test, y_test) = mnist.load_data()  # split the data in training set as tuple\n",
        "\n",
        "x_train = tf.keras.utils.normalize(x_train, axis=1)\n",
        "x_test = tf.keras.utils.normalize(x_test, axis=1)\n",
        "\n",
        "model = tf.keras.models.Sequential()\n",
        "model.add(tf.keras.layers.Flatten(input_shape=(28, 28)))\n",
        "model.add(tf.keras.layers.Dense(units=128, activation=tf.nn.relu))\n",
        "model.add(tf.keras.layers.Dense(units=128, activation=tf.nn.relu))\n",
        "model.add(tf.keras.layers.Dense(units=10, activation=tf.nn.softmax))\n",
        "model.compile(optimizer='adam', loss='sparse_categorical_crossentropy', metrics=['accuracy'])\n",
        "model.fit(x_train, y_train, epochs=3)  # As the number of epochs increases beyond 11,chance of overfitting of the model on training data\n",
        "\n",
        "loss, accuracy = model.evaluate(x_test, y_test)\n",
        "print(accuracy)\n",
        "print(loss)\n",
        "\n",
        "for x in range(1, 5):\n",
        "    # now we are going to read images it with open cv\n",
        "    img = cv.imread('/content/drive/MyDrive/projectFinal/5.png')\n",
        "    print(img)  # Print the return value of cv.imread to check if it's None\n",
        "    if img is not None:  # Proceed only if the image was loaded successfully\n",
        "        img = img[:, :, 0]  # all of it and 1st and last one\n",
        "        img = np.invert(np.array([img]))  # invert black to white in images so that model wont get confues\n",
        "        prediction = model.predict(img)\n",
        "        print(\"----------------\")\n",
        "        print(\"The predicted value is : \", np.argmax(prediction))\n",
        "        print(\"----------------\")\n",
        "        plt.imshow(img[0], cmap=plt.cm.binary)  # change the color in black and white\n",
        "        plt.show()\n",
        "    else:\n",
        "        print(f\"Error: Could not load image at /content/drive/MyDrive/projectFinal/5.png\")\n",
        "\n"
      ]
    }
  ]
}